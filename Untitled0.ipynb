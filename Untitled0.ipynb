{
  "nbformat": 4,
  "nbformat_minor": 0,
  "metadata": {
    "colab": {
      "name": "Untitled0.ipynb",
      "provenance": [],
      "collapsed_sections": [],
      "include_colab_link": true
    },
    "kernelspec": {
      "name": "python3",
      "display_name": "Python 3"
    }
  },
  "cells": [
    {
      "cell_type": "markdown",
      "metadata": {
        "id": "view-in-github",
        "colab_type": "text"
      },
      "source": [
        "<a href=\"https://colab.research.google.com/github/LaHuong/Hello/blob/master/Untitled0.ipynb\" target=\"_parent\"><img src=\"https://colab.research.google.com/assets/colab-badge.svg\" alt=\"Open In Colab\"/></a>"
      ]
    },
    {
      "cell_type": "code",
      "metadata": {
        "id": "WTNEF4fKrVNL",
        "colab_type": "code",
        "colab": {
          "base_uri": "https://localhost:8080/",
          "height": 68
        },
        "outputId": "74a8374e-65b6-4121-f8a6-2983846b4269"
      },
      "source": [
        "a = input()\n",
        "b = input()\n",
        "c = a + b\n",
        "print(c)"
      ],
      "execution_count": 5,
      "outputs": [
        {
          "output_type": "stream",
          "text": [
            "2\n",
            "5\n",
            "25\n"
          ],
          "name": "stdout"
        }
      ]
    },
    {
      "cell_type": "code",
      "metadata": {
        "id": "FIpVRG_DwNrv",
        "colab_type": "code",
        "colab": {
          "base_uri": "https://localhost:8080/",
          "height": 68
        },
        "outputId": "4661f4dc-b4a3-4f1e-9f22-910bb9238203"
      },
      "source": [
        "a = input()\n",
        "b = input()\n",
        "c = int(a) + int(b)\n",
        "print(c)"
      ],
      "execution_count": 6,
      "outputs": [
        {
          "output_type": "stream",
          "text": [
            "1\n",
            "2\n",
            "3\n"
          ],
          "name": "stdout"
        }
      ]
    },
    {
      "cell_type": "code",
      "metadata": {
        "id": "8-OlNtdXxNpK",
        "colab_type": "code",
        "colab": {
          "base_uri": "https://localhost:8080/",
          "height": 119
        },
        "outputId": "4cb0973e-7b38-4375-9456-8984b759e0f7"
      },
      "source": [
        "a = int(input())\n",
        "list = 0\n",
        "i = 1\n",
        "while i <= a:\n",
        "  list = list + 1\n",
        "  i = i + 1\n",
        "  print(\"integer numbers from 1 to \", a, \" is \", list)"
      ],
      "execution_count": 38,
      "outputs": [
        {
          "output_type": "stream",
          "text": [
            "5\n",
            "integer numbers from 1 to  5  is  1\n",
            "integer numbers from 1 to  5  is  2\n",
            "integer numbers from 1 to  5  is  3\n",
            "integer numbers from 1 to  5  is  4\n",
            "integer numbers from 1 to  5  is  5\n"
          ],
          "name": "stdout"
        }
      ]
    },
    {
      "cell_type": "code",
      "metadata": {
        "id": "gjwFz_b057AZ",
        "colab_type": "code",
        "colab": {}
      },
      "source": [
        ""
      ],
      "execution_count": 0,
      "outputs": []
    },
    {
      "cell_type": "code",
      "metadata": {
        "id": "6qXzwmnWrmoQ",
        "colab_type": "code",
        "colab": {}
      },
      "source": [
        "a = 1\n",
        "b = 2\n",
        "if a > b:\n",
        "\tprint(a, \" is greater than\", b)\n",
        "elif a == b:\n",
        "\tprint(a, \" is equal \", b)\n",
        "else:\n",
        "  print(a, \" is smaller than\", b)\n"
      ],
      "execution_count": 0,
      "outputs": []
    },
    {
      "cell_type": "code",
      "metadata": {
        "id": "bWVUFVhxsVgt",
        "colab_type": "code",
        "colab": {}
      },
      "source": [
        "n = 10\n",
        "total = 0\n",
        "for i in range(1, n+1):\n",
        "total = total + i\n",
        "print(\"Sum of integer numbers from 1 to \", n, \" is \", total)\n"
      ],
      "execution_count": 0,
      "outputs": []
    },
    {
      "cell_type": "code",
      "metadata": {
        "id": "qNirR1no4ASZ",
        "colab_type": "code",
        "colab": {
          "base_uri": "https://localhost:8080/",
          "height": 85
        },
        "outputId": "aeec3b7b-2e9d-479b-9e59-fac20c891c47"
      },
      "source": [
        "a = int(input())\n",
        "b = int(input())\n",
        "c = int(input())\n",
        "if a + b > c:\n",
        "\tprint(\"this is triangle\")\n",
        "else:\n",
        "  print(\"this is not triangle\")"
      ],
      "execution_count": 40,
      "outputs": [
        {
          "output_type": "stream",
          "text": [
            "3\n",
            "4\n",
            "6\n",
            "this is triangle\n"
          ],
          "name": "stdout"
        }
      ]
    },
    {
      "cell_type": "code",
      "metadata": {
        "id": "5uVQ37mosjYG",
        "colab_type": "code",
        "colab": {}
      },
      "source": [
        "n= 10\n",
        "total = 0\n",
        "i = 1\n",
        "while i <= n:\n",
        "  total = total + 1\n",
        "  i = i + 1\n",
        "  print(\"Sum of integer numbers from 1 to \", n, \" is \", total)"
      ],
      "execution_count": 0,
      "outputs": []
    },
    {
      "cell_type": "code",
      "metadata": {
        "id": "Nzvc3UKEtBL2",
        "colab_type": "code",
        "colab": {}
      },
      "source": [
        "from google.colab import drive\n",
        "drive.mount('/content/drive')\n"
      ],
      "execution_count": 0,
      "outputs": []
    },
    {
      "cell_type": "code",
      "metadata": {
        "id": "iI9CMqPgu6zO",
        "colab_type": "code",
        "colab": {
          "base_uri": "https://localhost:8080/",
          "height": 51
        },
        "outputId": "9abc5e46-a995-4d64-d85c-68c7d55f4a7e"
      },
      "source": [
        "b = 0\n",
        "c = 10\n",
        "while True:\n",
        "  a = int(input())\n",
        "  if a>b and a<c:\n",
        "    print(\"number\", a)\n",
        "    break"
      ],
      "execution_count": 11,
      "outputs": [
        {
          "output_type": "stream",
          "text": [
            "1\n",
            "number 1\n"
          ],
          "name": "stdout"
        }
      ]
    }
  ]
}